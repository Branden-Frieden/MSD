{
 "cells": [
  {
   "cell_type": "markdown",
   "metadata": {},
   "source": [
    "Branden Frieden\n",
    "u1038942\n",
    "5/18/2023\n",
    "CS6017\n",
    "HW# 2"
   ]
  },
  {
   "cell_type": "markdown",
   "metadata": {},
   "source": [
    "null hypothosis: A and B is equal"
   ]
  },
  {
   "cell_type": "code",
   "execution_count": null,
   "metadata": {},
   "outputs": [],
   "source": [
    "import math\n",
    "pHat = (500+550)/(1000+1000)\n",
    "\n",
    "z = ((500/1000) - (550/1000))/( math.sqrt(pHat * (1-pHat) * ((1/1000) + (1/1000))))\n",
    "print(\"Z = \", z)"
   ]
  },
  {
   "cell_type": "code",
   "execution_count": null,
   "metadata": {},
   "outputs": [],
   "source": [
    "import scipy.stats\n",
    "p = scipy.stats.norm.sf(abs(z))\n",
    "print(\"P = \", p)"
   ]
  },
  {
   "cell_type": "markdown",
   "metadata": {},
   "source": [
    "we can conclude that there is only a 1.2% chance that these 2 adverts are actually the same, assuming a significance value of .05, these 2 advertisements are not equivelent in terms of clicks."
   ]
  },
  {
   "cell_type": "markdown",
   "metadata": {},
   "source": [
    "Part 2"
   ]
  },
  {
   "cell_type": "code",
   "execution_count": null,
   "metadata": {},
   "outputs": [],
   "source": [
    "import pandas as pd\n",
    "\n",
    "#task 1\n",
    "re1 = pd.read_csv(\"realEstate1.csv\")\n",
    "re2 = pd.read_csv(\"realEstate2.csv\")\n",
    "realEstate = pd.concat([re1, re2])\n"
   ]
  },
  {
   "cell_type": "code",
   "execution_count": null,
   "metadata": {},
   "outputs": [],
   "source": [
    "#task2\n",
    "\n",
    "display(realEstate)"
   ]
  },
  {
   "cell_type": "code",
   "execution_count": null,
   "metadata": {},
   "outputs": [],
   "source": [
    "realEstate = realEstate[realEstate.LstPrice > 200000] \n",
    "realEstate = realEstate[realEstate.LstPrice < 1000000]\n",
    "display(realEstate)"
   ]
  },
  {
   "cell_type": "code",
   "execution_count": null,
   "metadata": {},
   "outputs": [],
   "source": [
    "realEstate = realEstate.loc[:,['Acres', 'Deck', 'GaragCap', 'Latitude', 'Longitude', 'LstPrice', 'Patio', 'PkgSpacs', 'PropType', 'SoldPrice', 'Taxes', 'TotBed', 'TotBth', 'TotSqf', 'YearBlt']]\n",
    "display(realEstate)"
   ]
  },
  {
   "cell_type": "code",
   "execution_count": null,
   "metadata": {},
   "outputs": [],
   "source": [
    "realEstate.dtypes"
   ]
  },
  {
   "cell_type": "code",
   "execution_count": null,
   "metadata": {},
   "outputs": [],
   "source": [
    "realEstate['TotSqf'] = realEstate['TotSqf'].str.replace(',', '').astype(int)"
   ]
  },
  {
   "cell_type": "code",
   "execution_count": null,
   "metadata": {},
   "outputs": [],
   "source": [
    "realEstate.dtypes"
   ]
  },
  {
   "cell_type": "code",
   "execution_count": null,
   "metadata": {},
   "outputs": [],
   "source": [
    "import numpy as np\n",
    "realEstate['Prop_Type_SingleFamily'] = np.where(realEstate['PropType'] == 'Single Family', 1, 0)\n",
    "display(realEstate)"
   ]
  },
  {
   "cell_type": "code",
   "execution_count": null,
   "metadata": {},
   "outputs": [],
   "source": [
    "realEstate = realEstate[realEstate.Longitude > -113] \n",
    "realEstate = realEstate[realEstate.Longitude < -110]\n",
    "\n",
    "realEstate = realEstate[realEstate.Taxes < 10000]\n",
    "\n",
    "display(realEstate)"
   ]
  },
  {
   "cell_type": "markdown",
   "metadata": {},
   "source": [
    "my dataset has 257 different items, each has 16 variables describing them. These values all seem to be resonable."
   ]
  },
  {
   "cell_type": "code",
   "execution_count": null,
   "metadata": {},
   "outputs": [],
   "source": [
    "realEstate['PropType'].value_counts().plot.bar(y='count', figsize=(5,5))"
   ]
  },
  {
   "cell_type": "code",
   "execution_count": null,
   "metadata": {},
   "outputs": [],
   "source": [
    "realEstate.corr(method='pearson', min_periods=1, numeric_only=True)"
   ]
  },
  {
   "cell_type": "code",
   "execution_count": null,
   "metadata": {},
   "outputs": [],
   "source": [
    "import matplotlib.pyplot as plt\n",
    "import seaborn as sns\n",
    "\n",
    "plot = sns.heatmap(realEstate.corr(numeric_only=True), cmap=\"YlGnBu\", annot=False, vmin=-1, vmax=1)\n",
    "plt.show()"
   ]
  },
  {
   "cell_type": "code",
   "execution_count": null,
   "metadata": {},
   "outputs": [],
   "source": [
    "import plotly.express as px\n",
    "scatterData = realEstate.loc[:,['Acres', 'LstPrice', 'SoldPrice', 'Taxes', 'TotBed', 'TotBth', 'TotSqf', 'YearBlt']]\n",
    "fig = px.scatter_matrix(scatterData, dimensions=['Acres', 'LstPrice', 'SoldPrice', 'Taxes', 'TotBed', 'TotBth', 'TotSqf', 'YearBlt'])\n",
    "fig.update_layout(height=800, width=1200)\n",
    "fig.show()"
   ]
  },
  {
   "cell_type": "markdown",
   "metadata": {},
   "source": [
    "strong correlations: \n",
    "\n",
    "    soldPrice, LstPrice\n",
    "    \n",
    "    \n",
    "    taxes, soldPrice\n",
    "    \n",
    "    \n",
    "    taxes, LstPrice\n",
    "\n",
    "there are some others that look correlated, but these are by far the strongest 3."
   ]
  },
  {
   "cell_type": "markdown",
   "metadata": {},
   "source": [
    "# Task 4"
   ]
  },
  {
   "cell_type": "code",
   "execution_count": null,
   "metadata": {},
   "outputs": [],
   "source": [
    "img = plt.imread(\"map.png\")\n",
    "\n",
    "fig, ax = plt.subplots()\n",
    "\n",
    "plt.imshow(img, extent=[-111.92, -111.83, 40.765,40.795])\n",
    "plt.scatter(realEstate.Longitude, realEstate.Latitude, c=realEstate.SoldPrice, cmap='viridis')\n",
    "plt.colorbar()\n",
    "\n",
    "plt.xlim(-111.92,-111.83)\n",
    "plt.ylim(40.765,40.795)\n",
    "\n",
    "plt.show()\n"
   ]
  },
  {
   "cell_type": "markdown",
   "metadata": {},
   "source": [
    "The further North and East you go, the more valuable the houses are, whle the southwest is less valuable on average."
   ]
  },
  {
   "cell_type": "markdown",
   "metadata": {},
   "source": [
    "# Task 5"
   ]
  },
  {
   "cell_type": "code",
   "execution_count": null,
   "metadata": {},
   "outputs": [],
   "source": [
    "import statsmodels.formula.api as sm\n",
    "\n",
    "price_ols = sm.ols(formula=\"SoldPrice ~ LstPrice\", data=realEstate ).fit()\n",
    "\n",
    "display(price_ols.summary())"
   ]
  },
  {
   "attachments": {},
   "cell_type": "markdown",
   "metadata": {},
   "source": [
    "R2 is .990 which means that the list price describes 99% of the variability of the sold price."
   ]
  },
  {
   "cell_type": "code",
   "execution_count": null,
   "metadata": {},
   "outputs": [],
   "source": [
    "plt.scatter(realEstate['LstPrice'], realEstate['SoldPrice'], color='red')\n",
    "xs = np.linspace(200000, 1000000, 100)\n",
    "plt.plot(xs, .9456 * xs + 12670)"
   ]
  },
  {
   "attachments": {},
   "cell_type": "markdown",
   "metadata": {},
   "source": [
    "# Task 6"
   ]
  },
  {
   "cell_type": "code",
   "execution_count": null,
   "metadata": {},
   "outputs": [],
   "source": [
    "all_ols = sm.ols(formula=\"SoldPrice ~ Acres + Deck + GaragCap + Latitude + Longitude + Patio + PkgSpacs + Taxes + TotBed + TotBth + TotSqf + YearBlt + Prop_Type_SingleFamily\", data=realEstate).fit()\n",
    "all_ols.summary()"
   ]
  },
  {
   "attachments": {},
   "cell_type": "markdown",
   "metadata": {},
   "source": [
    "the best indicators for the list price are:\n",
    "* Taxes\n",
    "* TotSqft\n",
    "* GarageCap\n",
    "* Longitude\n",
    "\n",
    "the coefficient of TotSqft indicates the increase in the value of the house for each increase in the square footage. So the coefficient of TotSqft means that an increase of one square footage will increase the value of the house $39.74\n",
    "\n",
    "each garage spot adds around $23660 value to the total value of the house.\n",
    "\n",
    "longitude and latitude both have and impact on the value of the house. both have large coefficients, so even though the change in the value of the longittude and latitude is small, the change in the value of the house is large."
   ]
  },
  {
   "cell_type": "markdown",
   "metadata": {},
   "source": []
  },
  {
   "cell_type": "code",
   "execution_count": null,
   "metadata": {},
   "outputs": [],
   "source": [
    "lst_ols = sm.ols(formula=\"SoldPrice ~ LstPrice\", data=realEstate).fit()\n",
    "lst_ols.summary()"
   ]
  },
  {
   "attachments": {},
   "cell_type": "markdown",
   "metadata": {},
   "source": [
    "Our model has a R^2 value of .851 while the LstPrice model has a R^2 value of .990, so out model is not as good of an indicator as the LstPrice model."
   ]
  },
  {
   "attachments": {},
   "cell_type": "markdown",
   "metadata": {},
   "source": [
    "# Task 7"
   ]
  },
  {
   "attachments": {},
   "cell_type": "markdown",
   "metadata": {},
   "source": [
    "The property type is determined by (or at least tied to) the total square footage of the property."
   ]
  },
  {
   "cell_type": "code",
   "execution_count": null,
   "metadata": {},
   "outputs": [],
   "source": [
    "sns.relplot(x='TotSqf', y='SoldPrice', hue='PropType', data=realEstate, )\n",
    "plt.show()"
   ]
  },
  {
   "attachments": {},
   "cell_type": "markdown",
   "metadata": {},
   "source": [
    "as we can see, the condos are much smaller in TotSqf than the average townhouse or Single Family house."
   ]
  },
  {
   "cell_type": "markdown",
   "metadata": {},
   "source": []
  }
 ],
 "metadata": {
  "kernelspec": {
   "display_name": "Python 3",
   "language": "python",
   "name": "python3"
  },
  "language_info": {
   "codemirror_mode": {
    "name": "ipython",
    "version": 3
   },
   "file_extension": ".py",
   "mimetype": "text/x-python",
   "name": "python",
   "nbconvert_exporter": "python",
   "pygments_lexer": "ipython3",
   "version": "3.11.3"
  },
  "orig_nbformat": 4,
  "vscode": {
   "interpreter": {
    "hash": "b0fa6594d8f4cbf19f97940f81e996739fb7646882a419484c72d19e05852a7e"
   }
  }
 },
 "nbformat": 4,
 "nbformat_minor": 2
}
