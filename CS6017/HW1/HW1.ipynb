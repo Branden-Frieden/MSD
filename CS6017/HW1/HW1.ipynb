{
 "cells": [
  {
   "cell_type": "markdown",
   "source": [
    "Branden Frieden\n",
    "u1038942\n",
    "5/18/2023\n",
    "CS6017\n",
    "HW# 1"
   ],
   "metadata": {
    "collapsed": false
   }
  },
  {
   "cell_type": "code",
   "execution_count": null,
   "outputs": [],
   "source": [
    "import numpy as np\n",
    "import math\n",
    "import scipy\n",
    "import matplotlib.pyplot as plt\n",
    "import pandas as pd"
   ],
   "metadata": {
    "collapsed": false,
    "ExecuteTime": {
     "start_time": "2023-05-18T12:57:35.730948Z",
     "end_time": "2023-05-18T12:57:35.762272Z"
    }
   }
  },
  {
   "cell_type": "code",
   "execution_count": null,
   "outputs": [],
   "source": [
    "randArray = np.random.rand(100)\n",
    "display(randArray)"
   ],
   "metadata": {
    "collapsed": false,
    "ExecuteTime": {
     "start_time": "2023-05-18T12:57:35.734304Z",
     "end_time": "2023-05-18T12:57:35.765998Z"
    }
   }
  },
  {
   "cell_type": "code",
   "execution_count": null,
   "outputs": [],
   "source": [
    "def arrayMean( array ):\n",
    "    sum = 0\n",
    "    for val in array:\n",
    "        sum += val\n",
    "    return sum/array.size"
   ],
   "metadata": {
    "collapsed": false,
    "ExecuteTime": {
     "start_time": "2023-05-18T12:57:35.739339Z",
     "end_time": "2023-05-18T12:57:35.766357Z"
    }
   }
  },
  {
   "cell_type": "code",
   "execution_count": null,
   "outputs": [],
   "source": [
    "def arrayStdDev( array ):\n",
    "    mean = arrayMean(array)\n",
    "    squaredDiff = 0\n",
    "    for val in array:\n",
    "        squaredDiff += (val - mean) ** 2\n",
    "    return math.sqrt(squaredDiff/array.size)"
   ],
   "metadata": {
    "collapsed": false,
    "ExecuteTime": {
     "start_time": "2023-05-18T12:57:35.742809Z",
     "end_time": "2023-05-18T12:57:35.766811Z"
    }
   }
  },
  {
   "cell_type": "code",
   "execution_count": null,
   "outputs": [],
   "source": [
    "arrayMean(randArray)"
   ],
   "metadata": {
    "collapsed": false,
    "ExecuteTime": {
     "start_time": "2023-05-18T12:57:35.747301Z",
     "end_time": "2023-05-18T12:57:35.767198Z"
    }
   }
  },
  {
   "cell_type": "code",
   "execution_count": null,
   "outputs": [],
   "source": [
    "arrayStdDev( randArray )"
   ],
   "metadata": {
    "collapsed": false,
    "ExecuteTime": {
     "start_time": "2023-05-18T12:57:35.751470Z",
     "end_time": "2023-05-18T12:57:35.767364Z"
    }
   }
  },
  {
   "cell_type": "code",
   "execution_count": null,
   "outputs": [],
   "source": [
    "normalArray = scipy.stats.norm.rvs(size=10000)\n",
    "display(normalArray)"
   ],
   "metadata": {
    "collapsed": false,
    "ExecuteTime": {
     "start_time": "2023-05-18T12:57:35.758223Z",
     "end_time": "2023-05-18T12:57:35.767744Z"
    }
   }
  },
  {
   "cell_type": "code",
   "execution_count": null,
   "outputs": [],
   "source": [
    "print(arrayMean(normalArray), arrayStdDev(normalArray))\n"
   ],
   "metadata": {
    "collapsed": false,
    "ExecuteTime": {
     "start_time": "2023-05-18T12:57:35.766395Z",
     "end_time": "2023-05-18T12:57:35.768699Z"
    }
   }
  },
  {
   "cell_type": "code",
   "execution_count": null,
   "outputs": [],
   "source": [
    "print(np.mean(normalArray), np.std(normalArray))"
   ],
   "metadata": {
    "collapsed": false,
    "ExecuteTime": {
     "start_time": "2023-05-18T12:57:35.770256Z",
     "end_time": "2023-05-18T12:57:35.775074Z"
    }
   }
  },
  {
   "cell_type": "markdown",
   "source": [
    "my function come out almost exactly the same as the built-ins, so they likely use the same methods"
   ],
   "metadata": {
    "collapsed": false
   }
  },
  {
   "cell_type": "code",
   "execution_count": null,
   "outputs": [],
   "source": [
    "_ = plt.hist(normalArray, bins=20)\n"
   ],
   "metadata": {
    "collapsed": false,
    "ExecuteTime": {
     "start_time": "2023-05-18T12:57:35.774759Z",
     "end_time": "2023-05-18T12:57:35.916970Z"
    }
   }
  },
  {
   "cell_type": "markdown",
   "source": [],
   "metadata": {
    "collapsed": false
   }
  },
  {
   "cell_type": "markdown",
   "source": [
    "# Part 2"
   ],
   "metadata": {
    "collapsed": false
   }
  },
  {
   "cell_type": "code",
   "execution_count": null,
   "outputs": [],
   "source": [
    "data = pd.read_csv('2021-PM2.5.csv', parse_dates=True)[['Date', 'ED-MC']]\n",
    "print(data)"
   ],
   "metadata": {
    "collapsed": false,
    "ExecuteTime": {
     "start_time": "2023-05-18T12:57:35.915394Z",
     "end_time": "2023-05-18T12:57:35.987021Z"
    }
   }
  },
  {
   "cell_type": "code",
   "execution_count": null,
   "outputs": [],
   "source": [
    "plt.plot(data['ED-MC'])"
   ],
   "metadata": {
    "collapsed": false,
    "ExecuteTime": {
     "start_time": "2023-05-18T12:57:35.949322Z",
     "end_time": "2023-05-18T12:57:36.049338Z"
    }
   }
  },
  {
   "cell_type": "code",
   "execution_count": null,
   "outputs": [],
   "source": [
    "data = pd.read_csv('2021-PM2.5.csv', usecols=['Date', 'ED-MC'], parse_dates=['Date'])\n",
    "data.index = pd.to_datetime(data['Date'])\n",
    "data = data.drop('Date', axis=1)\n",
    "print(data)\n",
    "\n",
    "monthGrouped = data.groupby(by=data.index.month).mean()\n",
    "monthGrouped.plot.bar()"
   ],
   "metadata": {
    "collapsed": false,
    "ExecuteTime": {
     "start_time": "2023-05-18T12:57:36.049960Z",
     "end_time": "2023-05-18T12:57:36.190091Z"
    }
   }
  },
  {
   "cell_type": "code",
   "execution_count": null,
   "outputs": [],
   "source": [
    "hourGrouped = data.groupby(by=data.index.hour).mean()\n",
    "hourGrouped.plot.bar(xlabel='hour')"
   ],
   "metadata": {
    "collapsed": false,
    "ExecuteTime": {
     "start_time": "2023-05-18T12:57:36.192369Z",
     "end_time": "2023-05-18T12:57:36.352936Z"
    }
   }
  },
  {
   "cell_type": "code",
   "execution_count": null,
   "outputs": [],
   "source": [
    "data.groupby(by=data.index.month).boxplot(subplots=False, rot=70)"
   ],
   "metadata": {
    "collapsed": false,
    "ExecuteTime": {
     "start_time": "2023-05-18T12:57:36.353561Z",
     "end_time": "2023-05-18T12:57:36.521669Z"
    }
   }
  },
  {
   "cell_type": "code",
   "execution_count": null,
   "outputs": [],
   "source": [
    "data.groupby(by=data.index.hour).boxplot(subplots=False, fontsize=8, rot=70)"
   ],
   "metadata": {
    "collapsed": false,
    "ExecuteTime": {
     "start_time": "2023-05-18T12:57:36.521767Z",
     "end_time": "2023-05-18T12:57:36.765838Z"
    }
   }
  },
  {
   "cell_type": "code",
   "execution_count": null,
   "outputs": [],
   "source": [],
   "metadata": {
    "collapsed": false,
    "ExecuteTime": {
     "start_time": "2023-05-18T12:57:36.768008Z",
     "end_time": "2023-05-18T12:57:36.768869Z"
    }
   }
  }
 ],
 "metadata": {
  "kernelspec": {
   "display_name": "Python 3",
   "language": "python",
   "name": "python3"
  },
  "language_info": {
   "codemirror_mode": {
    "name": "ipython",
    "version": 2
   },
   "file_extension": ".py",
   "mimetype": "text/x-python",
   "name": "python",
   "nbconvert_exporter": "python",
   "pygments_lexer": "ipython2",
   "version": "2.7.6"
  }
 },
 "nbformat": 4,
 "nbformat_minor": 0
}
